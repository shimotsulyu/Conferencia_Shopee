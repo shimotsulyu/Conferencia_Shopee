{
 "cells": [
  {
   "cell_type": "code",
   "execution_count": 2,
   "metadata": {},
   "outputs": [
    {
     "name": "stdout",
     "output_type": "stream",
     "text": [
      "*****************************************************\n",
      "Vendas completadas: 234 / Itens: 468.0\n",
      "Vendas enviando: 118 / Itens: 256.0\n",
      "Vendas enviar: 4 / Itens: 9.0\n",
      "*****************************************************\n",
      "Para Liberar: 4443.1\n",
      "Carteira Total: 8172.1\n",
      "TOTAL: 12615.2\n"
     ]
    }
   ],
   "source": [
    "import pandas as pd\n",
    "import glob\n",
    "endereco = glob.glob('Arquivos/*.csv')\n",
    "target = ['ID do pedido','Nome de usuário (comprador)','Número de produtos pedidos', 'Valor Total', 'Cupom do vendedor', 'Taxa de envio pagas pelo comprador']\n",
    "def calc(data1,data2,text):\n",
    "        data2 = data2.append(data1[target], ignore_index=True)\n",
    "        data2.drop_duplicates()\n",
    "        VTotal = data2['Valor Total'].sum()\n",
    "        CupomV = data2['Cupom do vendedor'].sum()\n",
    "        Frete = data2['Taxa de envio pagas pelo comprador'].sum()\n",
    "        total = VTotal - CupomV - Frete\n",
    "        return data2, total\n",
    "completo, enviando, enviar = pd.DataFrame(), pd.DataFrame(), pd.DataFrame()\n",
    "for end in endereco:\n",
    "    data = pd.read_csv(end,sep=';')\n",
    "    status = end[15]\n",
    "    if status == 'c':\n",
    "        completo, Carteira = calc(data,completo,'Carteira:')\n",
    "    elif status == 's':\n",
    "        enviando, Liberar1 = calc(data,enviando,'Enviando:')\n",
    "    elif status == 't':\n",
    "        enviar, Liberar2 = calc(data,enviar,'Enviar:')\n",
    "print('*****************************************************')\n",
    "print('Vendas completadas:',completo['ID do pedido'].count(),'/ Itens:',completo['Número de produtos pedidos'].sum())\n",
    "print('Vendas enviando:',enviando['ID do pedido'].count(),'/ Itens:',enviando['Número de produtos pedidos'].sum())\n",
    "print('Vendas enviar:',enviar['ID do pedido'].count(),'/ Itens:',enviar['Número de produtos pedidos'].sum())\n",
    "print('*****************************************************')\n",
    "print('Para Liberar:', Liberar1+Liberar2)\n",
    "print('Carteira Total:', Carteira)\n",
    "print('TOTAL:',Liberar1+Liberar2+Carteira)"
   ]
  },
  {
   "cell_type": "code",
   "execution_count": null,
   "metadata": {},
   "outputs": [],
   "source": []
  }
 ],
 "metadata": {
  "kernelspec": {
   "display_name": "Python 3",
   "language": "python",
   "name": "python3"
  },
  "language_info": {
   "codemirror_mode": {
    "name": "ipython",
    "version": 3
   },
   "file_extension": ".py",
   "mimetype": "text/x-python",
   "name": "python",
   "nbconvert_exporter": "python",
   "pygments_lexer": "ipython3",
   "version": "3.7.7"
  }
 },
 "nbformat": 4,
 "nbformat_minor": 2
}
