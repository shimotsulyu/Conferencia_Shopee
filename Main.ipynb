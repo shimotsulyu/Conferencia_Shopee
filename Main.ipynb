{
 "cells": [
  {
   "cell_type": "code",
   "execution_count": 43,
   "metadata": {},
   "outputs": [
    {
     "name": "stdout",
     "output_type": "stream",
     "text": [
      "2 ['Arquivos/_Mes__completo/Order.all.20200701_20200731.xls', 'Arquivos/Order.all.20200801_20200823.xls'] \n",
      "\n"
     ]
    }
   ],
   "source": [
    "#importa as bibliotecas\n",
    "import pandas as pd\n",
    "import glob\n",
    "#cria uma lista com o nome de todos os arquivos csv na pasta \"Arquivos\"\n",
    "endereco = glob.glob('Arquivos/_Mes__completo/*.xls')+glob.glob('Arquivos/*.xls')\n",
    "print(len(endereco),endereco,'\\n')\n",
    "#lista com as colunas a serem utilizadas\n",
    "target = ['ID do pedido','Data de criação do pedido','Status do pedido','Nome de usuário (comprador)','Número de produtos pedidos', 'Valor Total', 'Cupom do vendedor', 'Taxa de envio pagas pelo comprador']\n",
    "#função ler arquivos\n",
    "def lerArquivos():\n",
    "    #cria dataframes pandas\n",
    "    Main = pd.DataFrame()\n",
    "    #percorre os arquivos csv\n",
    "    for end in endereco:\n",
    "        #cria um dataframe com do arquivo lido\n",
    "        data = pd.read_excel(end,sep=';')\n",
    "        Main = Main.append(data, ignore_index=True)\n",
    "    return Main\n",
    "#função de consulta de rendimento pelo ID\n",
    "def consultaV(ID,saida=False):\n",
    "    ID = str(ID.upper())\n",
    "    print('Procurando:',ID)\n",
    "    empty = True\n",
    "    data = lerArquivos()\n",
    "    data = data.loc[data['ID do pedido']==ID]\n",
    "    if len(data)>0:\n",
    "        print(data['Nome de usuário (comprador)'].to_string(index=False))\n",
    "        dados = data[['Nome de usuário (comprador)', 'Nome do destinatário', 'Telefone','Endereço de entrega', 'Cidade', 'Bairro', 'Cidade.1', 'UF', 'País','CEP']]\n",
    "        dados['Telefone'] = dados['Telefone'].astype(int)\n",
    "        total = data['Valor Total'] - data['Cupom do vendedor'] - data['Taxa de envio pagas pelo comprador']\n",
    "        status = data[['Status do pedido', 'Status da Devolução / Reembolso']].to_numpy()[0]\n",
    "        if saida is True:\n",
    "            return total, status, dados, data\n",
    "        else:\n",
    "            print('Status:',status)\n",
    "            print('Rendimento:',total.to_string(index=False))\n",
    "    else:\n",
    "        print('ID não encontrado!')\n",
    "#função de soma de rendimentos\n",
    "def somaR(data,tipo):\n",
    "    data = data[target].loc[data['Status do pedido']==tipo]\n",
    "    vendas = data['ID do pedido'].count()\n",
    "    VTotal = data['Valor Total'].sum()\n",
    "    CupomV = data['Cupom do vendedor'].sum()\n",
    "    Frete = data['Taxa de envio pagas pelo comprador'].sum()\n",
    "    total = VTotal - CupomV - Frete\n",
    "    return total, vendas\n",
    "#função para verificar mÊs\n",
    "def mesR(end):\n",
    "    if end[-8:-6] == '01':\n",
    "        return 'Janeiro'\n",
    "    elif end[-8:-6] == '02':\n",
    "        return 'Fevereiro'\n",
    "    elif end[-8:-6] == '03':\n",
    "        return 'Março'\n",
    "    elif end[-8:-6] == '04':\n",
    "        return 'Abril'\n",
    "    elif end[-8:-6] == '05':\n",
    "        return 'Maio'\n",
    "    elif end[-8:-6] == '06':\n",
    "        return 'Junho'\n",
    "    elif end[-8:-6] == '07':\n",
    "        return 'Julho'\n",
    "    elif end[-8:-6] == '08':\n",
    "        return 'Agosto'\n",
    "    elif end[-8:-6] == '09':\n",
    "        return 'Stembro'\n",
    "    elif end[-8:-6] == '10':\n",
    "        return 'Outubro'\n",
    "    elif end[-8:-6] == '11':\n",
    "        return 'Novembro'\n",
    "    elif end[-8:-6] == '12':\n",
    "        return 'Dezembro'\n",
    "    else:\n",
    "        return 'Mes não identificado'\n",
    "import numpy as np\n",
    "#função gerar rendimento\n",
    "def gerarR():\n",
    "    #percorre os arquivos xls\n",
    "    Total = 0\n",
    "    for end in endereco:\n",
    "        data = pd.read_excel(end,sep=';')\n",
    "        data.dropna(subset=['Status do pedido'])\n",
    "        mes = mesR(end).upper()\n",
    "        print('__________________________#\\n',mes)\n",
    "        tipo = data['Status do pedido'].unique()\n",
    "        TotalMes, Npago = 0, 0\n",
    "        for t in tipo:\n",
    "            if str(t)!='nan':\n",
    "                total, vendas = somaR(data,t)\n",
    "                print('    ',vendas,t,':',total)\n",
    "                if t!='Cancelado':\n",
    "                    if t!='Não pago':\n",
    "                        TotalMes = TotalMes+total\n",
    "        Total = Total+TotalMes\n",
    "        print('__________________________\\nRendimento',mes,TotalMes)\n",
    "        print('__________________________#')\n",
    "    print('____________________________________________________\\nRendimento Total:',Total) \n",
    "#função para salvar tabela xls\n",
    "def salvarTab(data,nome_arquivo,planilha):\n",
    "    nome_arquivo = nome_arquivo+'.xls'\n",
    "    writer = pd.ExcelWriter(nome_arquivo)\n",
    "    data.to_excel(writer, sheet_name = planilha)\n",
    "    writer.save()\n",
    "    writer.close()\n",
    "    print('Arquivo',nome_arquivo,'salvo com sucesso')\n",
    "#função para gerar tabela xls\n",
    "def gerarTab(nome_arquivo,saida=False):\n",
    "    #cria dataframes pandas\n",
    "    Main = pd.DataFrame()\n",
    "    #percorre os arquivos csv\n",
    "    Main = lerArquivos()\n",
    "    Main['Rendimento'] = Main['Valor Total'] - Main['Cupom do vendedor'] - Main['Taxa de envio pagas pelo comprador'] \n",
    "    Main = Main[['Data de criação do pedido','ID do pedido','Status do pedido','Nome de usuário (comprador)','Rendimento']]\n",
    "    Main = Main.loc[(Main['Status do pedido']=='Completo') | (Main['Status do pedido']=='Cancelado') | (Main['Status do pedido']=='Frete') | (Main['Status do pedido']=='Não pago') | (Main['Status do pedido']=='A Enviar')]\n",
    "    print('\\n____________________________________________________')\n",
    "    print('DADOS DE VENDAS\\n')\n",
    "    for status in Main['Status do pedido'].unique():\n",
    "        print(status,round(Main.loc[Main['Status do pedido']==status,'Rendimento'].sum(),2))\n",
    "    print('____________________________________________________')\n",
    "    salvarTab(Main,nome_arquivo,'Rendimento')\n",
    "    if saida is True:\n",
    "        return Main\n",
    "#função para visualizar rank\n",
    "def rank(tipo):\n",
    "    Main = lerArquivos()\n",
    "    Main = Main.loc[(Main['Status do pedido']==tipo)]\n",
    "    compradores = Main['Nome de usuário (comprador)'].value_counts()\n",
    "    print(compradores)\n",
    "    salvarTab(compradores,tipo,'planilha')"
   ]
  },
  {
   "cell_type": "code",
   "execution_count": 44,
   "metadata": {},
   "outputs": [
    {
     "name": "stdout",
     "output_type": "stream",
     "text": [
      "__________________________#\n",
      " JULHO\n",
      "     30 Cancelado : 1095.0\n",
      "     119 Completo : 4159.8\n",
      "     7 Frete : 236.0\n",
      "__________________________\n",
      "Rendimento JULHO 4395.8\n",
      "__________________________#\n",
      "__________________________#\n",
      " AGOSTO\n",
      "     96 Cancelado : 3669.6\n",
      "     125 Completo : 4539.5\n",
      "     119 Frete : 4178.2\n",
      "     25 Não pago : 1089.5\n",
      "     15 A Enviar : 525.0\n",
      "__________________________\n",
      "Rendimento AGOSTO 9242.7\n",
      "__________________________#\n",
      "____________________________________________________\n",
      "Rendimento Total: 13638.5\n"
     ]
    }
   ],
   "source": [
    "gerarR()"
   ]
  },
  {
   "cell_type": "code",
   "execution_count": 45,
   "metadata": {},
   "outputs": [
    {
     "name": "stdout",
     "output_type": "stream",
     "text": [
      "ID:2008141FUDG96V\n",
      "Procurando: 2008141FUDG96V\n",
      " kosuta\n",
      "Status: ['Frete' 'Pedido pendente']\n",
      "Rendimento:  0.0\n"
     ]
    },
    {
     "name": "stderr",
     "output_type": "stream",
     "text": [
      "/home/shimotsu/anaconda3/lib/python3.7/site-packages/ipykernel_launcher.py:29: SettingWithCopyWarning: \n",
      "A value is trying to be set on a copy of a slice from a DataFrame.\n",
      "Try using .loc[row_indexer,col_indexer] = value instead\n",
      "\n",
      "See the caveats in the documentation: https://pandas.pydata.org/pandas-docs/stable/user_guide/indexing.html#returning-a-view-versus-a-copy\n"
     ]
    }
   ],
   "source": [
    "consultaV(input('ID:'))"
   ]
  },
  {
   "cell_type": "code",
   "execution_count": 46,
   "metadata": {},
   "outputs": [
    {
     "name": "stdout",
     "output_type": "stream",
     "text": [
      "\n",
      "____________________________________________________\n",
      "DADOS DE VENDAS\n",
      "\n",
      "Cancelado 4764.6\n",
      "Completo 8699.3\n",
      "Frete 4414.2\n",
      "Não pago 1089.5\n",
      "A Enviar 525.0\n",
      "____________________________________________________\n",
      "Arquivo Tabela.xls salvo com sucesso\n"
     ]
    }
   ],
   "source": [
    "data = gerarTab('Tabela',True)"
   ]
  },
  {
   "cell_type": "code",
   "execution_count": 57,
   "metadata": {},
   "outputs": [
    {
     "name": "stdout",
     "output_type": "stream",
     "text": [
      "chellbe               7\n",
      "xiaoania              6\n",
      "analuciavicente       4\n",
      "leilianeafenix1988    4\n",
      "jessyca8910           3\n",
      "                     ..\n",
      "ingridsvmelo          1\n",
      "irysfernandes         1\n",
      "adriana.almeida33     1\n",
      "nicolexavier69        1\n",
      "kattya.evellyn        1\n",
      "Name: Nome de usuário (comprador), Length: 99, dtype: int64\n",
      "Arquivo Cancelado.xls salvo com sucesso\n"
     ]
    }
   ],
   "source": [
    "rank('Cancelado')"
   ]
  },
  {
   "cell_type": "code",
   "execution_count": null,
   "metadata": {},
   "outputs": [],
   "source": []
  }
 ],
 "metadata": {
  "kernelspec": {
   "display_name": "Python 3",
   "language": "python",
   "name": "python3"
  },
  "language_info": {
   "codemirror_mode": {
    "name": "ipython",
    "version": 3
   },
   "file_extension": ".py",
   "mimetype": "text/x-python",
   "name": "python",
   "nbconvert_exporter": "python",
   "pygments_lexer": "ipython3",
   "version": "3.7.7"
  }
 },
 "nbformat": 4,
 "nbformat_minor": 2
}
