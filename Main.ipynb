{
 "cells": [
  {
   "cell_type": "code",
   "execution_count": 252,
   "metadata": {},
   "outputs": [
    {
     "name": "stdout",
     "output_type": "stream",
     "text": [
      "4 ['Arquivos/_Mes__completo/Order.completed.20200701_20200731.csv', 'Arquivos/Order.toship.20200722_20200821.csv', 'Arquivos/Order.completed.20200801_20200821.csv', 'Arquivos/Order.shipping.20200722_20200821.csv']\n"
     ]
    }
   ],
   "source": [
    "#importa as bibliotecas\n",
    "import pandas as pd\n",
    "import glob\n",
    "#cria uma lista com o nome de todos os arquivos csv na pasta \"Arquivos\"\n",
    "endereco = glob.glob('Arquivos/_Mes__completo/*.csv')+glob.glob('Arquivos/*.csv')\n",
    "print(len(endereco),endereco)\n",
    "#lista com as colunas a serem utilizadas\n",
    "target = ['ID do pedido','Hora completa do pedido','Status do pedido','Nome de usuário (comprador)','Número de produtos pedidos', 'Valor Total', 'Cupom do vendedor', 'Taxa de envio pagas pelo comprador']\n",
    "\n",
    "#função de consulta de rendimento pelo ID\n",
    "def consultaV(endereco,ID):\n",
    "    ID = ID.upper()\n",
    "    print('Procurando:',ID)\n",
    "    empty = True\n",
    "    for end in endereco:\n",
    "        #cria um dataframe com do arquivo lido\n",
    "        data = pd.read_csv(end,sep=';')\n",
    "        #verifica se o arquivo contem o ID\n",
    "        if len(data.loc[data['ID do pedido']==ID])==1:\n",
    "            empty = False\n",
    "            #Valor total do pedido\n",
    "            VTotal = float(data.loc[data['ID do pedido']==ID]['Valor Total'])\n",
    "            #Valor do cupom de desconto do vendendor\n",
    "            CupomV = float(data.loc[data['ID do pedido']==ID]['Cupom do vendedor'])\n",
    "            #Valor da taxa de envio paga pelo comprador\n",
    "            Frete = float(data.loc[data['ID do pedido']==ID]['Taxa de envio pagas pelo comprador'])\n",
    "            #Rendimento total\n",
    "            total = round(VTotal - CupomV - Frete,2)\n",
    "            #informações da consulta\n",
    "            print('*****************************************************')\n",
    "            print(end)\n",
    "            print('ID:',ID)\n",
    "            print(data.loc[data['ID do pedido']==ID]['Nome de usuário (comprador)'])\n",
    "            print('Itens:',int(data.loc[data['ID do pedido']==ID]['Número de produtos pedidos']),'\\n')\n",
    "            print('_______________________________\\nTotal do pedido:',VTotal)\n",
    "            print('Cupon do vendedor:',-1*CupomV)\n",
    "            print('Taxa de envio',-1*Frete)\n",
    "            print('_______________________________\\nRendimento de pedido:',total)\n",
    "            print('\\nFIM rendimento pedido\\n*****************************************************\\n\\n')\n",
    "    if empty is True:\n",
    "        print('*****************************************************')\n",
    "        print('ID não encontrado!')\n",
    "        print('\\nFIM rendimento pedido\\n*****************************************************\\n\\n')\n",
    "#função de soma de rendimentos\n",
    "def somaV(data1,data2,text,target):\n",
    "    data2 = data2.append(data1[target], ignore_index=True)\n",
    "    data2.drop_duplicates()\n",
    "    VTotal = data2['Valor Total'].sum()\n",
    "    CupomV = data2['Cupom do vendedor'].sum()\n",
    "    Frete = data2['Taxa de envio pagas pelo comprador'].sum()\n",
    "    total = VTotal - CupomV - Frete\n",
    "    return data2, total\n",
    "#função gerar rendimento\n",
    "def gerarR(endereco,target):\n",
    "    #cria dataframes pandas\n",
    "    completo, enviando, enviar = pd.DataFrame(), pd.DataFrame(), pd.DataFrame()\n",
    "    #percorre os arquivos csv\n",
    "    for end in endereco:\n",
    "        print(end)\n",
    "        #cria um dataframe com do arquivo lido\n",
    "        data = pd.read_csv(end,sep=';')\n",
    "        #variavel para determinar o tipo de venda\n",
    "        status = end[15:21]\n",
    "        #c para completo\n",
    "        if status == 'comple':\n",
    "            completo, Carteira = somaV(data,completo,'Carteira:',target)\n",
    "        #s para enviando\n",
    "        elif status == 'shippi':\n",
    "            enviando, Liberar1 = somaV(data,enviando,'Enviando:',target)\n",
    "        #t para enviar\n",
    "        elif status == 'toship':\n",
    "            enviar, Liberar2 = somaV(data,enviar,'Enviar:',target)\n",
    "    #informações das vendas\n",
    "    print('*****************************************************')\n",
    "    print('Vendas completadas:',completo['ID do pedido'].count(),'/ Itens:',completo['Número de produtos pedidos'].sum())\n",
    "    print('Vendas enviando:',enviando['ID do pedido'].count(),'/ Itens:',enviando['Número de produtos pedidos'].sum())\n",
    "    print('Vendas enviar:',enviar['ID do pedido'].count(),'/ Itens:',enviar['Número de produtos pedidos'].sum())\n",
    "    print('*****************************************************')\n",
    "    print('Para Liberar:', Liberar1+Liberar2)\n",
    "    print('Carteira Total:', round(Carteira))\n",
    "    print('TOTAL:',Liberar1+Liberar2+Carteira)\n",
    "    print('\\nFIM rendimento total\\n*****************************************************\\n\\n')\n",
    "def gerarLista(endereco,target):\n",
    "    #cria dataframes pandas\n",
    "    Main = pd.DataFrame()\n",
    "    #percorre os arquivos csv\n",
    "    for end in endereco:\n",
    "        #cria um dataframe com do arquivo lido\n",
    "        data = pd.read_csv(end,sep=';')\n",
    "        Main = Main.append(data[target], ignore_index=True).drop_duplicates().dropna(axis='rows')\n",
    "    Main['Rendimento'] = Main['Valor Total'] - Main['Cupom do vendedor'] - Main['Taxa de envio pagas pelo comprador'] \n",
    "    return Main"
   ]
  },
  {
   "cell_type": "code",
   "execution_count": 253,
   "metadata": {},
   "outputs": [
    {
     "name": "stdout",
     "output_type": "stream",
     "text": [
      "Arquivos/_Mes__completo/Order.completed.20200701_20200731.csv\n",
      "Arquivos/Order.toship.20200722_20200821.csv\n",
      "Arquivos/Order.completed.20200801_20200821.csv\n",
      "Arquivos/Order.shipping.20200722_20200821.csv\n",
      "*****************************************************\n",
      "Vendas completadas: 239 / Itens: 483.0\n",
      "Vendas enviando: 130 / Itens: 277.0\n",
      "Vendas enviar: 5 / Itens: 12.0\n",
      "*****************************************************\n",
      "Para Liberar: 4836.2\n",
      "Carteira Total: 8368.0\n",
      "TOTAL: 13203.8\n",
      "\n",
      "FIM rendimento total\n",
      "*****************************************************\n",
      "\n",
      "\n"
     ]
    }
   ],
   "source": [
    "#consulta rendimento total\n",
    "gerarR(endereco,target)"
   ]
  },
  {
   "cell_type": "code",
   "execution_count": 268,
   "metadata": {},
   "outputs": [
    {
     "name": "stdout",
     "output_type": "stream",
     "text": [
      "Procurando: 200813VKX0JEHT\n",
      "*****************************************************\n",
      "ID não encontrado!\n",
      "\n",
      "FIM rendimento pedido\n",
      "*****************************************************\n",
      "\n",
      "\n"
     ]
    }
   ],
   "source": [
    "#consulta rendimento\n",
    "consultaV(endereco,'200813VKX0JEHT')\n",
    "\n",
    "#200730PQ5PXVK4 anevoa 79,2 (sumiu)\n",
    "#2008058NJ7EH18 irys 11 (reembolso errado)\n",
    "#200813VKX0JEHT wy__88tel7 106,5 (reembolso errado)\n",
    "\n",
    "#13400,8"
   ]
  },
  {
   "cell_type": "code",
   "execution_count": 265,
   "metadata": {
    "scrolled": false
   },
   "outputs": [],
   "source": [
    "out = gerarLista(endereco,target)\n",
    "df1 = out[['ID do pedido','Status do pedido','Nome de usuário (comprador)','Rendimento']]\n",
    "writer = pd.ExcelWriter('output.xls')\n",
    "df1.to_excel(writer, sheet_name = \"Rendimento\")\n",
    "writer.save()\n",
    "writer.close()"
   ]
  },
  {
   "cell_type": "code",
   "execution_count": 167,
   "metadata": {},
   "outputs": [
    {
     "data": {
      "text/plain": [
       "ID do pedido                            200801UGA9E2G0\n",
       "Hora completa do pedido               2020-08-06 18:27\n",
       "Status do pedido                              Completo\n",
       "Nome de usuário (comprador)             jessicadaianep\n",
       "Número de produtos pedidos                           2\n",
       "Valor Total                                         25\n",
       "Cupom do vendedor                                    0\n",
       "Taxa de envio pagas pelo comprador                   0\n",
       "Rendimento                                          25\n",
       "Name: 84, dtype: object"
      ]
     },
     "execution_count": 167,
     "metadata": {},
     "output_type": "execute_result"
    }
   ],
   "source": [
    "out.iloc[84]"
   ]
  },
  {
   "cell_type": "code",
   "execution_count": null,
   "metadata": {},
   "outputs": [],
   "source": []
  }
 ],
 "metadata": {
  "kernelspec": {
   "display_name": "Python 3",
   "language": "python",
   "name": "python3"
  },
  "language_info": {
   "codemirror_mode": {
    "name": "ipython",
    "version": 3
   },
   "file_extension": ".py",
   "mimetype": "text/x-python",
   "name": "python",
   "nbconvert_exporter": "python",
   "pygments_lexer": "ipython3",
   "version": "3.7.7"
  }
 },
 "nbformat": 4,
 "nbformat_minor": 2
}
